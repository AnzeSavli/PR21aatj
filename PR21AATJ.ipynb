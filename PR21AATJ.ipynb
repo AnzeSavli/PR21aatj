{
 "cells": [
  {
   "cell_type": "code",
   "execution_count": null,
   "id": "1e0a068a",
   "metadata": {},
   "outputs": [],
   "source": [
    "import pandas as pd\n",
    "\n",
    "def readYear(yearDir):\n",
    "    napake = pd.read_csv(\"data/\"+str(yearDir)+\"/napake.csv\", delimiter=\";\")\n",
    "    uspesnost = pd.read_csv(\"data/\"+str(yearDir)+\"/uspesnost.csv\", delimiter=\";\")\n",
    "    return napake, uspesnost\n",
    "\n",
    "napake, uspesnost = readYear(2017)\n"
   ]
  },
  {
   "cell_type": "code",
   "execution_count": null,
   "id": "f4563df2",
   "metadata": {},
   "outputs": [],
   "source": [
    "from asyncore import read\n",
    "import csv\n",
    "from sqlite3 import Row\n",
    "import numpy as np\n",
    "import pandas as pd\n",
    "\n",
    "\n",
    "def readYear(yearDir):\n",
    "    # print(yearDir)\n",
    "\n",
    "    napake = pd.read_csv(\"data/\"+str(yearDir)+\"/uspesnost.csv\", delimiter=\";\")\n",
    "    data = pd.read_csv(\"data/\"+str(yearDir)+\"/uspesnost.csv\", delimiter=\";\")\n",
    "    print(data)\n",
    "\n",
    "readYear(2017)"
   ]
  }
 ],
 "metadata": {
  "language_info": {
   "name": "python"
  }
 },
 "nbformat": 4,
 "nbformat_minor": 5
}
